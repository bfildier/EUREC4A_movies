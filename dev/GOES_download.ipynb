{
 "cells": [
  {
   "cell_type": "code",
   "execution_count": 1,
   "metadata": {
    "ExecuteTime": {
     "end_time": "2020-02-07T18:40:21.915655Z",
     "start_time": "2020-02-07T18:40:21.912986Z"
    }
   },
   "outputs": [],
   "source": [
    "import urllib.request\n",
    "import datetime\n",
    "from calendar import monthrange\n",
    "import os"
   ]
  },
  {
   "cell_type": "code",
   "execution_count": 2,
   "metadata": {
    "ExecuteTime": {
     "end_time": "2020-02-07T18:40:26.207437Z",
     "start_time": "2020-02-07T18:40:26.202780Z"
    }
   },
   "outputs": [],
   "source": [
    "list_date = [\"2020-01-15\",\"2020-01-18\",\"2020-01-19\",\"2020-01-22\",\"2020-01-24\",\"2020-01-26\",\"2020-01-28\",\"2020-01-30\",\"2020-01-31\",\"2020-02-02\",\"2020-02-05\"]\n",
    "start_time = \"10:00\"\n",
    "end_time = \"22:00\"\n",
    "lat_min = 11.5\n",
    "lat_max = 15.\n",
    "lon_min = -60.\n",
    "lon_max = -55.\n",
    "width = 1125\n",
    "height = int(width*(lat_max-lat_min)/(lon_max-lon_min))"
   ]
  },
  {
   "cell_type": "code",
   "execution_count": 3,
   "metadata": {
    "ExecuteTime": {
     "end_time": "2020-02-07T19:09:25.904746Z",
     "start_time": "2020-02-07T18:40:28.649307Z"
    }
   },
   "outputs": [],
   "source": [
    "start_time_split = start_time.split(':')\n",
    "end_time_split = end_time.split(':')\n",
    "\n",
    "start_hour = int(start_time_split[0])\n",
    "start_min = int(start_time_split[1])\n",
    "end_hour = int(end_time_split[0])\n",
    "end_min = int(end_time_split[1])\n",
    "\n",
    "for date in list_date:\n",
    "    path_dir = \"../../Outputs/figures/\" + date\n",
    "    dir = os.path.abspath(path_dir)\n",
    "    if not os.path.exists(dir):\n",
    "        os.mkdir(dir)\n",
    "    \n",
    "    day_split = date.split('-')\n",
    "    year = int(day_split[0])\n",
    "    month = int(day_split[1])\n",
    "    day = int(day_split[2])\n",
    "    \n",
    "    start_date = datetime.datetime(year,month,day,start_hour,start_min,0)\n",
    "    end_date = datetime.datetime(year,month,day,end_hour,end_min,0)\n",
    "    delta = datetime.timedelta(minutes=10)\n",
    "        \n",
    "    while start_date <= end_date:\n",
    "        str_date = start_date.strftime(\"%Y-%m-%dT%H:%M:%SZ\")\n",
    "        lon_lat = str(lat_min)+','+str(lon_min)+ ',' + str(lat_max)+','+str(lon_max)\n",
    "        url = ('https://wvs.earthdata.nasa.gov/api/v1/snapshot?'+\n",
    "       'REQUEST=GetSnapshot&TIME='+str_date+'&BBOX='+lon_lat+'&CRS=EPSG:4326&LAYERS=GOES-East_ABI_Band2_Red_Visible_1km,'+\n",
    "       'Reference_Labels,Reference_Features&WRAP=x,x,x&FORMAT=image/'+\n",
    "       'jpeg&WIDTH='+str(width)+'&HEIGHT='+str(height)+'&ts=1580766913339')\n",
    "        save_str = path_dir + \"/\" + str_date + '.jpg'\n",
    "        urllib.request.urlretrieve(url, save_str)\n",
    "        start_date += delta\n",
    "    "
   ]
  },
  {
   "cell_type": "code",
   "execution_count": null,
   "metadata": {},
   "outputs": [],
   "source": []
  }
 ],
 "metadata": {
  "hide_input": false,
  "kernelspec": {
   "display_name": "Python 3",
   "language": "python",
   "name": "python3"
  },
  "language_info": {
   "codemirror_mode": {
    "name": "ipython",
    "version": 3
   },
   "file_extension": ".py",
   "mimetype": "text/x-python",
   "name": "python",
   "nbconvert_exporter": "python",
   "pygments_lexer": "ipython3",
   "version": "3.7.4"
  },
  "toc": {
   "base_numbering": 1,
   "nav_menu": {},
   "number_sections": true,
   "sideBar": true,
   "skip_h1_title": false,
   "title_cell": "Table of Contents",
   "title_sidebar": "Contents",
   "toc_cell": false,
   "toc_position": {},
   "toc_section_display": true,
   "toc_window_display": false
  },
  "varInspector": {
   "cols": {
    "lenName": 16,
    "lenType": 16,
    "lenVar": 40
   },
   "kernels_config": {
    "python": {
     "delete_cmd_postfix": "",
     "delete_cmd_prefix": "del ",
     "library": "var_list.py",
     "varRefreshCmd": "print(var_dic_list())"
    },
    "r": {
     "delete_cmd_postfix": ") ",
     "delete_cmd_prefix": "rm(",
     "library": "var_list.r",
     "varRefreshCmd": "cat(var_dic_list()) "
    }
   },
   "types_to_exclude": [
    "module",
    "function",
    "builtin_function_or_method",
    "instance",
    "_Feature"
   ],
   "window_display": false
  }
 },
 "nbformat": 4,
 "nbformat_minor": 2
}
